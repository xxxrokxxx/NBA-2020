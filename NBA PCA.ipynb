{
 "cells": [
  {
   "cell_type": "code",
   "execution_count": 1,
   "metadata": {},
   "outputs": [],
   "source": [
    "import pandas as pd\n",
    "import matplotlib as mpl\n",
    "import matplotlib.pyplot as plt\n",
    "import numpy as np\n",
    "import csv\n",
    "from datetime import datetime\n",
    "from sklearn.linear_model import LinearRegression\n",
    "from sklearn.linear_model import Lasso\n",
    "\n",
    "nba_team_data = {\n",
    " 'Team': [],\n",
    " 'Matchup': [],\n",
    " 'Game_date': [],\n",
    " 'W_L': [],\n",
    " 'Min': [],\n",
    " 'Pts': [],\n",
    " 'Fgm': [],\n",
    " 'Fga': [],\n",
    " 'Fg_p': [],\n",
    " 'Three_pm': [],\n",
    " 'Three_pa': [],\n",
    " 'Threep_p': [],\n",
    " 'Ftm': [],\n",
    " 'Fta': [],\n",
    " 'Ft_p': [],\n",
    " 'Oreb': [],\n",
    " 'Dreb': [],\n",
    " 'Reb': [],\n",
    " 'Ast': [],\n",
    " 'Stl': [],\n",
    " 'Blk': [],\n",
    " 'Tov': [],\n",
    " 'Pf': [],\n",
    " 'Plus_Minus': []\n",
    "}\n",
    "\n",
    "nba_team_prep = {\n",
    "    'Team1': [],\n",
    "    'Team2': [],\n",
    "    ## team1, team2, mean(team1), mean(team2), dif(mean(team1, team 2))\n",
    "    #\n",
    "    'Dif_Team1_Team2': [],\n",
    "    'Win_Loose': [],\n",
    "    'Point_Diff': []\n",
    "}\n",
    "\n",
    "n = pd.read_csv('nba2020.csv')\n",
    "#format the date and outcome\n",
    "n['Game_date'] = n['Game_date'].apply(lambda x: datetime.strptime(x.strip(),'%m/%d/%Y'))\n",
    "n['W_L'] = n['W_L'].apply(lambda x: '1' if x=='W' else '0')"
   ]
  },
  {
   "cell_type": "code",
   "execution_count": 32,
   "metadata": {},
   "outputs": [],
   "source": [
    "m =  n.to_numpy()\n",
    "X = m[:, 3:]\n",
    "from sklearn.decomposition import PCA\n",
    "pca = PCA(n_components=15)\n",
    "n2d = pca.fit(X)"
   ]
  },
  {
   "cell_type": "code",
   "execution_count": 33,
   "metadata": {},
   "outputs": [
    {
     "data": {
      "text/plain": [
       "PCA(copy=True, iterated_power='auto', n_components=15, random_state=None,\n",
       "    svd_solver='auto', tol=0.0, whiten=False)"
      ]
     },
     "execution_count": 33,
     "metadata": {},
     "output_type": "execute_result"
    }
   ],
   "source": [
    "n2d"
   ]
  },
  {
   "cell_type": "code",
   "execution_count": 35,
   "metadata": {},
   "outputs": [
    {
     "data": {
      "text/plain": [
       "array([0.36208869, 0.12542431, 0.11173811, 0.10303959, 0.08415286,\n",
       "       0.0514315 , 0.04029325, 0.0332032 , 0.0243452 , 0.01868002,\n",
       "       0.01431158, 0.0125417 , 0.00854763, 0.00575926, 0.00351086])"
      ]
     },
     "execution_count": 35,
     "metadata": {},
     "output_type": "execute_result"
    }
   ],
   "source": [
    "pca.explained_variance_ratio_"
   ]
  },
  {
   "cell_type": "code",
   "execution_count": 39,
   "metadata": {},
   "outputs": [
    {
     "data": {
      "text/plain": [
       "array([ 0.0184895 ,  0.04018893,  0.57373992,  0.20016971,  0.03615417,\n",
       "        0.20665129,  0.103545  ,  0.03133584,  0.27674395,  0.06985549,\n",
       "        0.06407124,  0.09748687, -0.0046988 ,  0.10716576,  0.10246696,\n",
       "        0.13152514,  0.01024766,  0.02024173, -0.01235309,  0.01516663,\n",
       "        0.66166767])"
      ]
     },
     "execution_count": 39,
     "metadata": {},
     "output_type": "execute_result"
    }
   ],
   "source": [
    "pca.components_.T[:,0]"
   ]
  },
  {
   "cell_type": "code",
   "execution_count": null,
   "metadata": {},
   "outputs": [],
   "source": []
  }
 ],
 "metadata": {
  "kernelspec": {
   "display_name": "Python 3",
   "language": "python",
   "name": "python3"
  },
  "language_info": {
   "codemirror_mode": {
    "name": "ipython",
    "version": 3
   },
   "file_extension": ".py",
   "mimetype": "text/x-python",
   "name": "python",
   "nbconvert_exporter": "python",
   "pygments_lexer": "ipython3",
   "version": "3.7.4"
  }
 },
 "nbformat": 4,
 "nbformat_minor": 2
}
